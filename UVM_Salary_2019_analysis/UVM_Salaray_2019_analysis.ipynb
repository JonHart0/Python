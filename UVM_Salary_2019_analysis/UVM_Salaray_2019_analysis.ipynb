{
 "cells": [
  {
   "cell_type": "code",
   "execution_count": 400,
   "metadata": {},
   "outputs": [],
   "source": [
    "import numpy as np\n",
    "import pandas as pd"
   ]
  },
  {
   "cell_type": "code",
   "execution_count": 448,
   "metadata": {},
   "outputs": [],
   "source": [
    "# Read in the data\n",
    "data = pd.read_csv('UVM_pay_19.csv',\n",
    "                  names=[\"Name\", \"Position\", \"Salary\"])\n",
    "\n",
    "check_gender = pd.read_csv('baby-names.csv',\n",
    "                    names = [\"Name\", \"Gender\"])"
   ]
  },
  {
   "cell_type": "code",
   "execution_count": 449,
   "metadata": {},
   "outputs": [],
   "source": [
    "# Find index where salary data was not avaliable\n",
    "remove = []\n",
    "data[data.Salary.isnull()]\n",
    "for row in data[data.Salary.isnull()].index:\n",
    "    remove.append(row)"
   ]
  },
  {
   "cell_type": "code",
   "execution_count": 450,
   "metadata": {},
   "outputs": [],
   "source": [
    "# Find bad index\n",
    "data[data.Salary == 'Base Pay']\n",
    "for row in data[data.Salary == 'Base Pay'].index:\n",
    "    remove.append(row)"
   ]
  },
  {
   "cell_type": "code",
   "execution_count": 451,
   "metadata": {},
   "outputs": [],
   "source": [
    "# Reverse the order to remove the lowest rows first\n",
    "remove.sort(reverse = True)"
   ]
  },
  {
   "cell_type": "code",
   "execution_count": 452,
   "metadata": {},
   "outputs": [
    {
     "data": {
      "text/plain": [
       "4242"
      ]
     },
     "execution_count": 452,
     "metadata": {},
     "output_type": "execute_result"
    }
   ],
   "source": [
    "len(data)"
   ]
  },
  {
   "cell_type": "code",
   "execution_count": 453,
   "metadata": {},
   "outputs": [],
   "source": [
    "# Remove all entries found to not contain salary data\n",
    "for i in remove:\n",
    "    data = data.drop(i)"
   ]
  },
  {
   "cell_type": "code",
   "execution_count": 454,
   "metadata": {},
   "outputs": [
    {
     "data": {
      "text/plain": [
       "4004"
      ]
     },
     "execution_count": 454,
     "metadata": {},
     "output_type": "execute_result"
    }
   ],
   "source": [
    "len(data)"
   ]
  },
  {
   "cell_type": "code",
   "execution_count": 455,
   "metadata": {},
   "outputs": [],
   "source": [
    "# Remove none int char from Salary data and convert from str to int\n",
    "data.Salary = data.Salary.str.replace(\"$\",\"\")\n",
    "data.Salary = data.Salary.str.replace(\",\",\"\")\n",
    "data.Salary = data.Salary.astype(int)"
   ]
  },
  {
   "cell_type": "code",
   "execution_count": 456,
   "metadata": {},
   "outputs": [
    {
     "data": {
      "text/html": [
       "<div>\n",
       "<style scoped>\n",
       "    .dataframe tbody tr th:only-of-type {\n",
       "        vertical-align: middle;\n",
       "    }\n",
       "\n",
       "    .dataframe tbody tr th {\n",
       "        vertical-align: top;\n",
       "    }\n",
       "\n",
       "    .dataframe thead th {\n",
       "        text-align: right;\n",
       "    }\n",
       "</style>\n",
       "<table border=\"1\" class=\"dataframe\">\n",
       "  <thead>\n",
       "    <tr style=\"text-align: right;\">\n",
       "      <th></th>\n",
       "      <th>Name</th>\n",
       "      <th>Position</th>\n",
       "      <th>Salary</th>\n",
       "    </tr>\n",
       "  </thead>\n",
       "  <tbody>\n",
       "    <tr>\n",
       "      <td>101</td>\n",
       "      <td>An,Gary C</td>\n",
       "      <td>Professor (COM)</td>\n",
       "      <td>210000</td>\n",
       "    </tr>\n",
       "    <tr>\n",
       "      <td>103</td>\n",
       "      <td>Ananou,T. Simeon</td>\n",
       "      <td>Chief Information Officer</td>\n",
       "      <td>239700</td>\n",
       "    </tr>\n",
       "    <tr>\n",
       "      <td>137</td>\n",
       "      <td>Atherly,Adam J.</td>\n",
       "      <td>Professor</td>\n",
       "      <td>260100</td>\n",
       "    </tr>\n",
       "    <tr>\n",
       "      <td>250</td>\n",
       "      <td>Becker,John E.</td>\n",
       "      <td>Athletic Head Coach Sr</td>\n",
       "      <td>318270</td>\n",
       "    </tr>\n",
       "    <tr>\n",
       "      <td>259</td>\n",
       "      <td>Belliveau,Cynthia L</td>\n",
       "      <td>Dean</td>\n",
       "      <td>206467</td>\n",
       "    </tr>\n",
       "    <tr>\n",
       "      <td>...</td>\n",
       "      <td>...</td>\n",
       "      <td>...</td>\n",
       "      <td>...</td>\n",
       "    </tr>\n",
       "    <tr>\n",
       "      <td>3925</td>\n",
       "      <td>Vigoreaux,Jim Osvaldo</td>\n",
       "      <td>Associate Provost</td>\n",
       "      <td>205497</td>\n",
       "    </tr>\n",
       "    <tr>\n",
       "      <td>3936</td>\n",
       "      <td>Vizzard,Margaret A.</td>\n",
       "      <td>Professor</td>\n",
       "      <td>247331</td>\n",
       "    </tr>\n",
       "    <tr>\n",
       "      <td>4003</td>\n",
       "      <td>Warshaw,David Michael</td>\n",
       "      <td>Professor</td>\n",
       "      <td>368579</td>\n",
       "    </tr>\n",
       "    <tr>\n",
       "      <td>4205</td>\n",
       "      <td>Zakai,Neil A.</td>\n",
       "      <td>Associate Professor</td>\n",
       "      <td>220000</td>\n",
       "    </tr>\n",
       "    <tr>\n",
       "      <td>4214</td>\n",
       "      <td>Zehle,Christa Maria</td>\n",
       "      <td>Interim Associate Dean</td>\n",
       "      <td>295342</td>\n",
       "    </tr>\n",
       "  </tbody>\n",
       "</table>\n",
       "<p>66 rows × 3 columns</p>\n",
       "</div>"
      ],
      "text/plain": [
       "                       Name                   Position  Salary\n",
       "101               An,Gary C            Professor (COM)  210000\n",
       "103        Ananou,T. Simeon  Chief Information Officer  239700\n",
       "137         Atherly,Adam J.                  Professor  260100\n",
       "250          Becker,John E.     Athletic Head Coach Sr  318270\n",
       "259     Belliveau,Cynthia L                       Dean  206467\n",
       "...                     ...                        ...     ...\n",
       "3925  Vigoreaux,Jim Osvaldo          Associate Provost  205497\n",
       "3936    Vizzard,Margaret A.                  Professor  247331\n",
       "4003  Warshaw,David Michael                  Professor  368579\n",
       "4205          Zakai,Neil A.        Associate Professor  220000\n",
       "4214    Zehle,Christa Maria     Interim Associate Dean  295342\n",
       "\n",
       "[66 rows x 3 columns]"
      ]
     },
     "execution_count": 456,
     "metadata": {},
     "output_type": "execute_result"
    }
   ],
   "source": [
    "# Who makes more than $200,000\n",
    "data[data.Salary > 200000]"
   ]
  },
  {
   "cell_type": "code",
   "execution_count": null,
   "metadata": {},
   "outputs": [],
   "source": []
  },
  {
   "cell_type": "code",
   "execution_count": 457,
   "metadata": {},
   "outputs": [
    {
     "data": {
      "text/plain": [
       "250"
      ]
     },
     "execution_count": 457,
     "metadata": {},
     "output_type": "execute_result"
    }
   ],
   "source": [
    "# Creates a list for non-repeat job titles\n",
    "job_list = []\n",
    "\n",
    "for job in data.Position:\n",
    "    if job not in job_list:\n",
    "        job_list.append(job)\n",
    "len(job_list)\n"
   ]
  },
  {
   "cell_type": "code",
   "execution_count": 458,
   "metadata": {},
   "outputs": [],
   "source": [
    "# Create a list of all Last names from the Name column in dataframe\n",
    "last_Name = []\n",
    "for name in data.Name:\n",
    "    char_hold = str('')\n",
    "    cnt = 0\n",
    "    for char in name:\n",
    "        if char == ',':\n",
    "            last_Name.append(char_hold)\n",
    "            char_hold = str('')\n",
    "            break\n",
    "        char_hold += char"
   ]
  },
  {
   "cell_type": "code",
   "execution_count": 459,
   "metadata": {},
   "outputs": [],
   "source": [
    "# Create a list of all first names\n",
    "first_Name = []\n",
    "for name in data.Name:\n",
    "    char_hold = str('')\n",
    "    cnt = 0\n",
    "    for char in name:\n",
    "        if char == ' ':\n",
    "            first_Name.append(char_hold)\n",
    "            break\n",
    "        char_hold += char\n",
    "        if char == ',':\n",
    "            char_hold = str('')\n",
    "            \n",
    "            \n",
    "        \n",
    "        \n",
    "        cnt += 1\n",
    "        \n",
    "        \n",
    "        if cnt == len(name):\n",
    "            first_Name.append(char_hold)\n",
    "            break"
   ]
  },
  {
   "cell_type": "code",
   "execution_count": 460,
   "metadata": {},
   "outputs": [
    {
     "name": "stdout",
     "output_type": "stream",
     "text": [
      "4004\n",
      "4004\n",
      "4004\n"
     ]
    }
   ],
   "source": [
    "# Sanity check\n",
    "print(len(first_Name))\n",
    "print(len(last_Name))\n",
    "print(len(data))"
   ]
  },
  {
   "cell_type": "code",
   "execution_count": 461,
   "metadata": {},
   "outputs": [],
   "source": [
    "# Add the new columns to the dataframe\n",
    "data['First_Name'] = first_Name\n",
    "data['Last_Name'] = last_Name"
   ]
  },
  {
   "cell_type": "code",
   "execution_count": 462,
   "metadata": {},
   "outputs": [],
   "source": [
    "# Remove the Full name column\n",
    "data = data.drop(columns=\"Name\")"
   ]
  },
  {
   "cell_type": "code",
   "execution_count": 463,
   "metadata": {},
   "outputs": [
    {
     "data": {
      "text/html": [
       "<div>\n",
       "<style scoped>\n",
       "    .dataframe tbody tr th:only-of-type {\n",
       "        vertical-align: middle;\n",
       "    }\n",
       "\n",
       "    .dataframe tbody tr th {\n",
       "        vertical-align: top;\n",
       "    }\n",
       "\n",
       "    .dataframe thead th {\n",
       "        text-align: right;\n",
       "    }\n",
       "</style>\n",
       "<table border=\"1\" class=\"dataframe\">\n",
       "  <thead>\n",
       "    <tr style=\"text-align: right;\">\n",
       "      <th></th>\n",
       "      <th>Position</th>\n",
       "      <th>Salary</th>\n",
       "      <th>First_Name</th>\n",
       "      <th>Last_Name</th>\n",
       "    </tr>\n",
       "  </thead>\n",
       "  <tbody>\n",
       "    <tr>\n",
       "      <td>10</td>\n",
       "      <td>Associate Professor</td>\n",
       "      <td>67200</td>\n",
       "      <td>Jamie</td>\n",
       "      <td>Abaied</td>\n",
       "    </tr>\n",
       "    <tr>\n",
       "      <td>11</td>\n",
       "      <td>Office/Prgm Support Generalist</td>\n",
       "      <td>28219</td>\n",
       "      <td>Shirley</td>\n",
       "      <td>Abair</td>\n",
       "    </tr>\n",
       "    <tr>\n",
       "      <td>12</td>\n",
       "      <td>Lecturer</td>\n",
       "      <td>53612</td>\n",
       "      <td>Michael</td>\n",
       "      <td>Abajian</td>\n",
       "    </tr>\n",
       "    <tr>\n",
       "      <td>13</td>\n",
       "      <td>Office/Prgm Support Generalist</td>\n",
       "      <td>45766</td>\n",
       "      <td>Lori</td>\n",
       "      <td>Abbott</td>\n",
       "    </tr>\n",
       "    <tr>\n",
       "      <td>14</td>\n",
       "      <td>Assistant Professor (COM)</td>\n",
       "      <td>30000</td>\n",
       "      <td>Rany</td>\n",
       "      <td>Abdallah</td>\n",
       "    </tr>\n",
       "    <tr>\n",
       "      <td>...</td>\n",
       "      <td>...</td>\n",
       "      <td>...</td>\n",
       "      <td>...</td>\n",
       "      <td>...</td>\n",
       "    </tr>\n",
       "    <tr>\n",
       "      <td>4237</td>\n",
       "      <td>Custodial Maintenance Worker</td>\n",
       "      <td>30846</td>\n",
       "      <td>Ferida</td>\n",
       "      <td>Zolj</td>\n",
       "    </tr>\n",
       "    <tr>\n",
       "      <td>4238</td>\n",
       "      <td>Professor (COM)</td>\n",
       "      <td>35000</td>\n",
       "      <td>Richard</td>\n",
       "      <td>Zubarik</td>\n",
       "    </tr>\n",
       "    <tr>\n",
       "      <td>4239</td>\n",
       "      <td>Assistant Professor (COM)</td>\n",
       "      <td>30000</td>\n",
       "      <td>Cassandra</td>\n",
       "      <td>Zurawsky</td>\n",
       "    </tr>\n",
       "    <tr>\n",
       "      <td>4240</td>\n",
       "      <td>Info Tech Assist/Programmr</td>\n",
       "      <td>46944</td>\n",
       "      <td>Molly</td>\n",
       "      <td>Zurheide</td>\n",
       "    </tr>\n",
       "    <tr>\n",
       "      <td>4241</td>\n",
       "      <td>Custodial Maintenance Spec Sr</td>\n",
       "      <td>35651</td>\n",
       "      <td>Ramiz</td>\n",
       "      <td>Zvekic</td>\n",
       "    </tr>\n",
       "  </tbody>\n",
       "</table>\n",
       "<p>4004 rows × 4 columns</p>\n",
       "</div>"
      ],
      "text/plain": [
       "                            Position  Salary First_Name Last_Name\n",
       "10               Associate Professor   67200      Jamie    Abaied\n",
       "11    Office/Prgm Support Generalist   28219    Shirley     Abair\n",
       "12                          Lecturer   53612    Michael   Abajian\n",
       "13    Office/Prgm Support Generalist   45766       Lori    Abbott\n",
       "14         Assistant Professor (COM)   30000       Rany  Abdallah\n",
       "...                              ...     ...        ...       ...\n",
       "4237    Custodial Maintenance Worker   30846     Ferida      Zolj\n",
       "4238                 Professor (COM)   35000    Richard   Zubarik\n",
       "4239       Assistant Professor (COM)   30000  Cassandra  Zurawsky\n",
       "4240      Info Tech Assist/Programmr   46944      Molly  Zurheide\n",
       "4241   Custodial Maintenance Spec Sr   35651      Ramiz    Zvekic\n",
       "\n",
       "[4004 rows x 4 columns]"
      ]
     },
     "execution_count": 463,
     "metadata": {},
     "output_type": "execute_result"
    }
   ],
   "source": [
    "data"
   ]
  },
  {
   "cell_type": "code",
   "execution_count": 464,
   "metadata": {},
   "outputs": [
    {
     "data": {
      "text/html": [
       "<div>\n",
       "<style scoped>\n",
       "    .dataframe tbody tr th:only-of-type {\n",
       "        vertical-align: middle;\n",
       "    }\n",
       "\n",
       "    .dataframe tbody tr th {\n",
       "        vertical-align: top;\n",
       "    }\n",
       "\n",
       "    .dataframe thead th {\n",
       "        text-align: right;\n",
       "    }\n",
       "</style>\n",
       "<table border=\"1\" class=\"dataframe\">\n",
       "  <thead>\n",
       "    <tr style=\"text-align: right;\">\n",
       "      <th></th>\n",
       "      <th>Position</th>\n",
       "      <th>Salary</th>\n",
       "      <th>First_Name</th>\n",
       "      <th>Last_Name</th>\n",
       "    </tr>\n",
       "  </thead>\n",
       "  <tbody>\n",
       "    <tr>\n",
       "      <td>1354</td>\n",
       "      <td>Professor</td>\n",
       "      <td>160961</td>\n",
       "      <td>Jeff</td>\n",
       "      <td>Frolik</td>\n",
       "    </tr>\n",
       "  </tbody>\n",
       "</table>\n",
       "</div>"
      ],
      "text/plain": [
       "       Position  Salary First_Name Last_Name\n",
       "1354  Professor  160961       Jeff    Frolik"
      ]
     },
     "execution_count": 464,
     "metadata": {},
     "output_type": "execute_result"
    }
   ],
   "source": [
    "data[data.Last_Name == \"Frolik\"]"
   ]
  },
  {
   "cell_type": "code",
   "execution_count": 465,
   "metadata": {},
   "outputs": [
    {
     "data": {
      "text/html": [
       "<div>\n",
       "<style scoped>\n",
       "    .dataframe tbody tr th:only-of-type {\n",
       "        vertical-align: middle;\n",
       "    }\n",
       "\n",
       "    .dataframe tbody tr th {\n",
       "        vertical-align: top;\n",
       "    }\n",
       "\n",
       "    .dataframe thead th {\n",
       "        text-align: right;\n",
       "    }\n",
       "</style>\n",
       "<table border=\"1\" class=\"dataframe\">\n",
       "  <thead>\n",
       "    <tr style=\"text-align: right;\">\n",
       "      <th></th>\n",
       "      <th>Position</th>\n",
       "      <th>Salary</th>\n",
       "      <th>First_Name</th>\n",
       "      <th>Last_Name</th>\n",
       "    </tr>\n",
       "  </thead>\n",
       "  <tbody>\n",
       "    <tr>\n",
       "      <td>565</td>\n",
       "      <td>Professor</td>\n",
       "      <td>139726</td>\n",
       "      <td>Jeff</td>\n",
       "      <td>Buzas</td>\n",
       "    </tr>\n",
       "    <tr>\n",
       "      <td>1213</td>\n",
       "      <td>Outreach Professional</td>\n",
       "      <td>52038</td>\n",
       "      <td>Jeff</td>\n",
       "      <td>Falsgraf</td>\n",
       "    </tr>\n",
       "    <tr>\n",
       "      <td>1354</td>\n",
       "      <td>Professor</td>\n",
       "      <td>160961</td>\n",
       "      <td>Jeff</td>\n",
       "      <td>Frolik</td>\n",
       "    </tr>\n",
       "    <tr>\n",
       "      <td>2134</td>\n",
       "      <td>Technical Safety Officer</td>\n",
       "      <td>86062</td>\n",
       "      <td>Jeff</td>\n",
       "      <td>LaBossiere</td>\n",
       "    </tr>\n",
       "    <tr>\n",
       "      <td>3245</td>\n",
       "      <td>Administrative Professional Sr</td>\n",
       "      <td>73758</td>\n",
       "      <td>Jeff</td>\n",
       "      <td>Rogers</td>\n",
       "    </tr>\n",
       "  </tbody>\n",
       "</table>\n",
       "</div>"
      ],
      "text/plain": [
       "                            Position  Salary First_Name   Last_Name\n",
       "565                        Professor  139726       Jeff       Buzas\n",
       "1213           Outreach Professional   52038       Jeff    Falsgraf\n",
       "1354                       Professor  160961       Jeff      Frolik\n",
       "2134        Technical Safety Officer   86062       Jeff  LaBossiere\n",
       "3245  Administrative Professional Sr   73758       Jeff      Rogers"
      ]
     },
     "execution_count": 465,
     "metadata": {},
     "output_type": "execute_result"
    }
   ],
   "source": [
    "data[data.First_Name == 'Jeff']"
   ]
  },
  {
   "cell_type": "code",
   "execution_count": null,
   "metadata": {},
   "outputs": [],
   "source": []
  },
  {
   "cell_type": "code",
   "execution_count": 489,
   "metadata": {},
   "outputs": [
    {
     "data": {
      "text/plain": [
       "6783"
      ]
     },
     "execution_count": 489,
     "metadata": {},
     "output_type": "execute_result"
    }
   ],
   "source": [
    "# Creates a list for non-repeat job titles\n",
    "name_list = []\n",
    "index_list = []\n",
    "for i,name in enumerate(check_gender.Name):\n",
    "    if name not in name_list:\n",
    "        name_list.append(name)\n",
    "        index_list.append(i)\n",
    "len(name_list)\n"
   ]
  },
  {
   "cell_type": "code",
   "execution_count": 493,
   "metadata": {},
   "outputs": [],
   "source": [
    "gender_list =[]\n",
    "for i in index_list:\n",
    "    gender_list.append(check_gender.Gender[i])"
   ]
  },
  {
   "cell_type": "code",
   "execution_count": 513,
   "metadata": {},
   "outputs": [],
   "source": [
    "Gender = []\n",
    "test = len(gender_list)-1\n",
    "for name in data.First_Name:\n",
    "    cnt = 0\n",
    "    for j,check_name in enumerate(name_list):\n",
    "        if name.lower() == check_name.lower():\n",
    "            Gender.append(gender_list[j])\n",
    "            break\n",
    "        if j == test:\n",
    "            Gender.append(\"N/a\")   \n"
   ]
  },
  {
   "cell_type": "code",
   "execution_count": 514,
   "metadata": {},
   "outputs": [
    {
     "data": {
      "text/plain": [
       "4004"
      ]
     },
     "execution_count": 514,
     "metadata": {},
     "output_type": "execute_result"
    }
   ],
   "source": [
    "len(Gender)"
   ]
  },
  {
   "cell_type": "code",
   "execution_count": 515,
   "metadata": {},
   "outputs": [],
   "source": [
    "data['Gender'] = Gender"
   ]
  },
  {
   "cell_type": "code",
   "execution_count": 516,
   "metadata": {},
   "outputs": [
    {
     "data": {
      "text/html": [
       "<div>\n",
       "<style scoped>\n",
       "    .dataframe tbody tr th:only-of-type {\n",
       "        vertical-align: middle;\n",
       "    }\n",
       "\n",
       "    .dataframe tbody tr th {\n",
       "        vertical-align: top;\n",
       "    }\n",
       "\n",
       "    .dataframe thead th {\n",
       "        text-align: right;\n",
       "    }\n",
       "</style>\n",
       "<table border=\"1\" class=\"dataframe\">\n",
       "  <thead>\n",
       "    <tr style=\"text-align: right;\">\n",
       "      <th></th>\n",
       "      <th>Position</th>\n",
       "      <th>Salary</th>\n",
       "      <th>First_Name</th>\n",
       "      <th>Last_Name</th>\n",
       "      <th>Gender</th>\n",
       "    </tr>\n",
       "  </thead>\n",
       "  <tbody>\n",
       "    <tr>\n",
       "      <td>10</td>\n",
       "      <td>Associate Professor</td>\n",
       "      <td>67200</td>\n",
       "      <td>Jamie</td>\n",
       "      <td>Abaied</td>\n",
       "      <td>boy</td>\n",
       "    </tr>\n",
       "    <tr>\n",
       "      <td>11</td>\n",
       "      <td>Office/Prgm Support Generalist</td>\n",
       "      <td>28219</td>\n",
       "      <td>Shirley</td>\n",
       "      <td>Abair</td>\n",
       "      <td>boy</td>\n",
       "    </tr>\n",
       "    <tr>\n",
       "      <td>12</td>\n",
       "      <td>Lecturer</td>\n",
       "      <td>53612</td>\n",
       "      <td>Michael</td>\n",
       "      <td>Abajian</td>\n",
       "      <td>boy</td>\n",
       "    </tr>\n",
       "    <tr>\n",
       "      <td>13</td>\n",
       "      <td>Office/Prgm Support Generalist</td>\n",
       "      <td>45766</td>\n",
       "      <td>Lori</td>\n",
       "      <td>Abbott</td>\n",
       "      <td>girl</td>\n",
       "    </tr>\n",
       "    <tr>\n",
       "      <td>14</td>\n",
       "      <td>Assistant Professor (COM)</td>\n",
       "      <td>30000</td>\n",
       "      <td>Rany</td>\n",
       "      <td>Abdallah</td>\n",
       "      <td>N/a</td>\n",
       "    </tr>\n",
       "    <tr>\n",
       "      <td>...</td>\n",
       "      <td>...</td>\n",
       "      <td>...</td>\n",
       "      <td>...</td>\n",
       "      <td>...</td>\n",
       "      <td>...</td>\n",
       "    </tr>\n",
       "    <tr>\n",
       "      <td>4237</td>\n",
       "      <td>Custodial Maintenance Worker</td>\n",
       "      <td>30846</td>\n",
       "      <td>Ferida</td>\n",
       "      <td>Zolj</td>\n",
       "      <td>N/a</td>\n",
       "    </tr>\n",
       "    <tr>\n",
       "      <td>4238</td>\n",
       "      <td>Professor (COM)</td>\n",
       "      <td>35000</td>\n",
       "      <td>Richard</td>\n",
       "      <td>Zubarik</td>\n",
       "      <td>boy</td>\n",
       "    </tr>\n",
       "    <tr>\n",
       "      <td>4239</td>\n",
       "      <td>Assistant Professor (COM)</td>\n",
       "      <td>30000</td>\n",
       "      <td>Cassandra</td>\n",
       "      <td>Zurawsky</td>\n",
       "      <td>girl</td>\n",
       "    </tr>\n",
       "    <tr>\n",
       "      <td>4240</td>\n",
       "      <td>Info Tech Assist/Programmr</td>\n",
       "      <td>46944</td>\n",
       "      <td>Molly</td>\n",
       "      <td>Zurheide</td>\n",
       "      <td>girl</td>\n",
       "    </tr>\n",
       "    <tr>\n",
       "      <td>4241</td>\n",
       "      <td>Custodial Maintenance Spec Sr</td>\n",
       "      <td>35651</td>\n",
       "      <td>Ramiz</td>\n",
       "      <td>Zvekic</td>\n",
       "      <td>N/a</td>\n",
       "    </tr>\n",
       "  </tbody>\n",
       "</table>\n",
       "<p>4004 rows × 5 columns</p>\n",
       "</div>"
      ],
      "text/plain": [
       "                            Position  Salary First_Name Last_Name Gender\n",
       "10               Associate Professor   67200      Jamie    Abaied    boy\n",
       "11    Office/Prgm Support Generalist   28219    Shirley     Abair    boy\n",
       "12                          Lecturer   53612    Michael   Abajian    boy\n",
       "13    Office/Prgm Support Generalist   45766       Lori    Abbott   girl\n",
       "14         Assistant Professor (COM)   30000       Rany  Abdallah    N/a\n",
       "...                              ...     ...        ...       ...    ...\n",
       "4237    Custodial Maintenance Worker   30846     Ferida      Zolj    N/a\n",
       "4238                 Professor (COM)   35000    Richard   Zubarik    boy\n",
       "4239       Assistant Professor (COM)   30000  Cassandra  Zurawsky   girl\n",
       "4240      Info Tech Assist/Programmr   46944      Molly  Zurheide   girl\n",
       "4241   Custodial Maintenance Spec Sr   35651      Ramiz    Zvekic    N/a\n",
       "\n",
       "[4004 rows x 5 columns]"
      ]
     },
     "execution_count": 516,
     "metadata": {},
     "output_type": "execute_result"
    }
   ],
   "source": [
    "data"
   ]
  },
  {
   "cell_type": "code",
   "execution_count": 534,
   "metadata": {},
   "outputs": [],
   "source": [
    "boys = 0\n",
    "girls = 0\n",
    "g_sal = 0\n",
    "b_sal = 0\n",
    "Salary_np = data.Salary.to_numpy()\n",
    "for i, gender in enumerate(data.Gender):\n",
    "    if gender == \"girl\":\n",
    "        girls += 1\n",
    "        g_sal += Salary_np[i]\n",
    "    if gender == \"boy\":\n",
    "        boys += 1\n",
    "        b_sal += Salary_np[i]"
   ]
  },
  {
   "cell_type": "code",
   "execution_count": 538,
   "metadata": {},
   "outputs": [
    {
     "name": "stdout",
     "output_type": "stream",
     "text": [
      "782\n",
      "59089.01150895141\n"
     ]
    }
   ],
   "source": [
    "print(girls)\n",
    "print(g_sal/girls)"
   ]
  },
  {
   "cell_type": "code",
   "execution_count": 539,
   "metadata": {},
   "outputs": [
    {
     "name": "stdout",
     "output_type": "stream",
     "text": [
      "2658\n",
      "66227.6813393529\n"
     ]
    }
   ],
   "source": [
    "print(boys)\n",
    "print(b_sal/boys)"
   ]
  },
  {
   "cell_type": "code",
   "execution_count": 537,
   "metadata": {},
   "outputs": [
    {
     "name": "stdout",
     "output_type": "stream",
     "text": [
      "0.8922101803047776\n"
     ]
    }
   ],
   "source": [
    "print((g_sal/girls)/(b_sal/boys))"
   ]
  },
  {
   "cell_type": "code",
   "execution_count": null,
   "metadata": {},
   "outputs": [],
   "source": []
  }
 ],
 "metadata": {
  "kernelspec": {
   "display_name": "Python 3",
   "language": "python",
   "name": "python3"
  },
  "language_info": {
   "codemirror_mode": {
    "name": "ipython",
    "version": 3
   },
   "file_extension": ".py",
   "mimetype": "text/x-python",
   "name": "python",
   "nbconvert_exporter": "python",
   "pygments_lexer": "ipython3",
   "version": "3.7.4"
  }
 },
 "nbformat": 4,
 "nbformat_minor": 2
}
